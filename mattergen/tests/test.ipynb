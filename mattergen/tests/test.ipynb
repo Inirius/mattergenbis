{
 "cells": [
  {
   "cell_type": "code",
   "execution_count": 1,
   "id": "26490dc7",
   "metadata": {},
   "outputs": [],
   "source": [
    "from mattergen.diffusion.diffusion_loss import *"
   ]
  },
  {
   "cell_type": "code",
   "execution_count": 2,
   "id": "b4f082eb",
   "metadata": {},
   "outputs": [
    {
     "name": "stdout",
     "output_type": "stream",
     "text": [
      "cell:\n",
      " tensor([[[1., 0., 0.],\n",
      "         [0., 1., 0.],\n",
      "         [0., 0., 1.]],\n",
      "\n",
      "        [[2., 0., 0.],\n",
      "         [0., 2., 0.],\n",
      "         [0., 0., 2.]]])\n",
      "batch: tensor([0, 1])\n",
      "volume: tensor([1., 8.])\n"
     ]
    }
   ],
   "source": [
    "# First graph: identity cell\n",
    "cell1 = torch.eye(3).unsqueeze(0)        # [1, 3, 3]\n",
    "pos1 = torch.zeros((1, 3))               # [1, 3]\n",
    "atomic_numbers1 = torch.tensor([1], dtype=torch.long)  # Hydrogen\n",
    "batch1 = torch.tensor([0], dtype=torch.long)           # batch index\n",
    "\n",
    "# Second graph: 2*identity cell\n",
    "cell2 = (2 * torch.eye(3)).unsqueeze(0)  # [1, 3, 3]\n",
    "pos2 = torch.zeros((1, 3))               # [1, 3]\n",
    "atomic_numbers2 = torch.tensor([1], dtype=torch.long)  # Hydrogen\n",
    "batch2 = torch.tensor([1], dtype=torch.long)           # batch index\n",
    "\n",
    "# Concatenate for batch\n",
    "cell = torch.cat([cell1, cell2], dim=0)               # [2, 3, 3]\n",
    "pos = torch.cat([pos1, pos2], dim=0)                  # [2, 3]\n",
    "atomic_numbers = torch.cat([atomic_numbers1, atomic_numbers2], dim=0)  # [2]\n",
    "batch = torch.cat([batch1, batch2], dim=0)            # [2]\n",
    "pbc = torch.tensor([1, 1, 1], dtype=torch.bool)        # periodic in all directions\n",
    "\n",
    "g = ChemGraph(\n",
    "    atomic_numbers=atomic_numbers,\n",
    "    pos=pos,\n",
    "    cell=cell,\n",
    "    batch=batch,\n",
    "    pbc=pbc\n",
    ")\n",
    "\n",
    "print(\"cell:\\n\", g.cell)\n",
    "print(\"batch:\", g.batch)\n",
    "print(\"volume:\", torch.abs(torch.det(g.cell)))  # Should be tensor([1., 8.])"
   ]
  },
  {
   "cell_type": "code",
   "execution_count": null,
   "id": "9bf0e403",
   "metadata": {},
   "outputs": [],
   "source": []
  }
 ],
 "metadata": {
  "kernelspec": {
   "display_name": ".venv",
   "language": "python",
   "name": "python3"
  },
  "language_info": {
   "codemirror_mode": {
    "name": "ipython",
    "version": 3
   },
   "file_extension": ".py",
   "mimetype": "text/x-python",
   "name": "python",
   "nbconvert_exporter": "python",
   "pygments_lexer": "ipython3",
   "version": "3.10.17"
  }
 },
 "nbformat": 4,
 "nbformat_minor": 5
}
